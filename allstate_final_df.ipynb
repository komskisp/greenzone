{
 "cells": [
  {
   "cell_type": "code",
   "execution_count": 2,
   "id": "0f044e36",
   "metadata": {},
   "outputs": [],
   "source": [
    "from geopy.geocoders import Nominatim\n",
    "from shapely.geometry import Point, LineString\n",
    "import geopandas as gpd\n",
    "import folium \n",
    "import matplotlib.pyplot as plt\n",
    "import random\n",
    "import pandas as pd"
   ]
  },
  {
   "cell_type": "code",
   "execution_count": 3,
   "id": "2044ea00",
   "metadata": {},
   "outputs": [],
   "source": [
    "df = pd.read_csv('/Users/pauliuskomskis/Desktop/github/greenzone/data/2019/final_df.csv')"
   ]
  },
  {
   "cell_type": "code",
   "execution_count": 4,
   "id": "311a9fd4",
   "metadata": {},
   "outputs": [
    {
     "data": {
      "text/plain": [
       "(5, 14)"
      ]
     },
     "execution_count": 4,
     "metadata": {},
     "output_type": "execute_result"
    }
   ],
   "source": [
    "df.head().shape"
   ]
  },
  {
   "cell_type": "code",
   "execution_count": 5,
   "id": "82836cd7",
   "metadata": {},
   "outputs": [
    {
     "data": {
      "text/html": [
       "<div>\n",
       "<style scoped>\n",
       "    .dataframe tbody tr th:only-of-type {\n",
       "        vertical-align: middle;\n",
       "    }\n",
       "\n",
       "    .dataframe tbody tr th {\n",
       "        vertical-align: top;\n",
       "    }\n",
       "\n",
       "    .dataframe thead th {\n",
       "        text-align: right;\n",
       "    }\n",
       "</style>\n",
       "<table border=\"1\" class=\"dataframe\">\n",
       "  <thead>\n",
       "    <tr style=\"text-align: right;\">\n",
       "      <th></th>\n",
       "      <th>Unnamed: 0</th>\n",
       "      <th>city</th>\n",
       "      <th>population</th>\n",
       "      <th>violent_crime</th>\n",
       "      <th>murder</th>\n",
       "      <th>rape</th>\n",
       "      <th>robbery</th>\n",
       "      <th>assault</th>\n",
       "      <th>property_crime</th>\n",
       "      <th>burglary</th>\n",
       "      <th>larceny</th>\n",
       "      <th>gta</th>\n",
       "      <th>arson</th>\n",
       "      <th>Arson</th>\n",
       "    </tr>\n",
       "  </thead>\n",
       "  <tbody>\n",
       "    <tr>\n",
       "      <th>0</th>\n",
       "      <td>0</td>\n",
       "      <td>Barre</td>\n",
       "      <td>8551</td>\n",
       "      <td>64</td>\n",
       "      <td>0</td>\n",
       "      <td>18</td>\n",
       "      <td>3</td>\n",
       "      <td>43</td>\n",
       "      <td>203</td>\n",
       "      <td>20</td>\n",
       "      <td>183</td>\n",
       "      <td>0</td>\n",
       "      <td>3.0</td>\n",
       "      <td>NaN</td>\n",
       "    </tr>\n",
       "    <tr>\n",
       "      <th>1</th>\n",
       "      <td>1</td>\n",
       "      <td>Barre Town</td>\n",
       "      <td>7679</td>\n",
       "      <td>6</td>\n",
       "      <td>0</td>\n",
       "      <td>1</td>\n",
       "      <td>0</td>\n",
       "      <td>5</td>\n",
       "      <td>67</td>\n",
       "      <td>3</td>\n",
       "      <td>62</td>\n",
       "      <td>2</td>\n",
       "      <td>1.0</td>\n",
       "      <td>NaN</td>\n",
       "    </tr>\n",
       "    <tr>\n",
       "      <th>2</th>\n",
       "      <td>2</td>\n",
       "      <td>Bellows Falls</td>\n",
       "      <td>2988</td>\n",
       "      <td>7</td>\n",
       "      <td>0</td>\n",
       "      <td>0</td>\n",
       "      <td>2</td>\n",
       "      <td>5</td>\n",
       "      <td>54</td>\n",
       "      <td>11</td>\n",
       "      <td>42</td>\n",
       "      <td>1</td>\n",
       "      <td>0.0</td>\n",
       "      <td>NaN</td>\n",
       "    </tr>\n",
       "    <tr>\n",
       "      <th>3</th>\n",
       "      <td>3</td>\n",
       "      <td>Bennington</td>\n",
       "      <td>14912</td>\n",
       "      <td>63</td>\n",
       "      <td>0</td>\n",
       "      <td>3</td>\n",
       "      <td>9</td>\n",
       "      <td>51</td>\n",
       "      <td>514</td>\n",
       "      <td>67</td>\n",
       "      <td>431</td>\n",
       "      <td>16</td>\n",
       "      <td>0.0</td>\n",
       "      <td>NaN</td>\n",
       "    </tr>\n",
       "    <tr>\n",
       "      <th>4</th>\n",
       "      <td>4</td>\n",
       "      <td>Berlin</td>\n",
       "      <td>2789</td>\n",
       "      <td>9</td>\n",
       "      <td>0</td>\n",
       "      <td>2</td>\n",
       "      <td>0</td>\n",
       "      <td>7</td>\n",
       "      <td>122</td>\n",
       "      <td>4</td>\n",
       "      <td>117</td>\n",
       "      <td>1</td>\n",
       "      <td>0.0</td>\n",
       "      <td>NaN</td>\n",
       "    </tr>\n",
       "  </tbody>\n",
       "</table>\n",
       "</div>"
      ],
      "text/plain": [
       "   Unnamed: 0           city  population  violent_crime  murder  rape  \\\n",
       "0           0          Barre        8551             64       0    18   \n",
       "1           1     Barre Town        7679              6       0     1   \n",
       "2           2  Bellows Falls        2988              7       0     0   \n",
       "3           3     Bennington       14912             63       0     3   \n",
       "4           4         Berlin        2789              9       0     2   \n",
       "\n",
       "   robbery  assault  property_crime  burglary  larceny  gta  arson  Arson  \n",
       "0        3       43             203        20      183    0    3.0    NaN  \n",
       "1        0        5              67         3       62    2    1.0    NaN  \n",
       "2        2        5              54        11       42    1    0.0    NaN  \n",
       "3        9       51             514        67      431   16    0.0    NaN  \n",
       "4        0        7             122         4      117    1    0.0    NaN  "
      ]
     },
     "execution_count": 5,
     "metadata": {},
     "output_type": "execute_result"
    }
   ],
   "source": [
    "df.head()"
   ]
  },
  {
   "cell_type": "code",
   "execution_count": 6,
   "id": "44388971",
   "metadata": {},
   "outputs": [
    {
     "data": {
      "text/plain": [
       "(7658,)"
      ]
     },
     "execution_count": 6,
     "metadata": {},
     "output_type": "execute_result"
    }
   ],
   "source": [
    "city_list = df['city']\n",
    "city_list.shape"
   ]
  },
  {
   "cell_type": "code",
   "execution_count": 11,
   "id": "f68ae01e",
   "metadata": {},
   "outputs": [
    {
     "name": "stderr",
     "output_type": "stream",
     "text": [
      "<ipython-input-11-67cb30a7f1d9>:1: FutureWarning: The default value of regex will change from True to False in a future version.\n",
      "  df['city'] = df['city'].str.replace('\\d+', '')\n"
     ]
    },
    {
     "data": {
      "text/html": [
       "<div>\n",
       "<style scoped>\n",
       "    .dataframe tbody tr th:only-of-type {\n",
       "        vertical-align: middle;\n",
       "    }\n",
       "\n",
       "    .dataframe tbody tr th {\n",
       "        vertical-align: top;\n",
       "    }\n",
       "\n",
       "    .dataframe thead th {\n",
       "        text-align: right;\n",
       "    }\n",
       "</style>\n",
       "<table border=\"1\" class=\"dataframe\">\n",
       "  <thead>\n",
       "    <tr style=\"text-align: right;\">\n",
       "      <th></th>\n",
       "      <th>Unnamed: 0</th>\n",
       "      <th>city</th>\n",
       "      <th>population</th>\n",
       "      <th>violent_crime</th>\n",
       "      <th>murder</th>\n",
       "      <th>rape</th>\n",
       "      <th>robbery</th>\n",
       "      <th>assault</th>\n",
       "      <th>property_crime</th>\n",
       "      <th>burglary</th>\n",
       "      <th>larceny</th>\n",
       "      <th>gta</th>\n",
       "      <th>arson</th>\n",
       "      <th>Arson</th>\n",
       "    </tr>\n",
       "  </thead>\n",
       "  <tbody>\n",
       "    <tr>\n",
       "      <th>0</th>\n",
       "      <td>0</td>\n",
       "      <td>Barre</td>\n",
       "      <td>8551</td>\n",
       "      <td>64</td>\n",
       "      <td>0</td>\n",
       "      <td>18</td>\n",
       "      <td>3</td>\n",
       "      <td>43</td>\n",
       "      <td>203</td>\n",
       "      <td>20</td>\n",
       "      <td>183</td>\n",
       "      <td>0</td>\n",
       "      <td>3.0</td>\n",
       "      <td>NaN</td>\n",
       "    </tr>\n",
       "    <tr>\n",
       "      <th>1</th>\n",
       "      <td>1</td>\n",
       "      <td>Barre Town</td>\n",
       "      <td>7679</td>\n",
       "      <td>6</td>\n",
       "      <td>0</td>\n",
       "      <td>1</td>\n",
       "      <td>0</td>\n",
       "      <td>5</td>\n",
       "      <td>67</td>\n",
       "      <td>3</td>\n",
       "      <td>62</td>\n",
       "      <td>2</td>\n",
       "      <td>1.0</td>\n",
       "      <td>NaN</td>\n",
       "    </tr>\n",
       "    <tr>\n",
       "      <th>2</th>\n",
       "      <td>2</td>\n",
       "      <td>Bellows Falls</td>\n",
       "      <td>2988</td>\n",
       "      <td>7</td>\n",
       "      <td>0</td>\n",
       "      <td>0</td>\n",
       "      <td>2</td>\n",
       "      <td>5</td>\n",
       "      <td>54</td>\n",
       "      <td>11</td>\n",
       "      <td>42</td>\n",
       "      <td>1</td>\n",
       "      <td>0.0</td>\n",
       "      <td>NaN</td>\n",
       "    </tr>\n",
       "    <tr>\n",
       "      <th>3</th>\n",
       "      <td>3</td>\n",
       "      <td>Bennington</td>\n",
       "      <td>14912</td>\n",
       "      <td>63</td>\n",
       "      <td>0</td>\n",
       "      <td>3</td>\n",
       "      <td>9</td>\n",
       "      <td>51</td>\n",
       "      <td>514</td>\n",
       "      <td>67</td>\n",
       "      <td>431</td>\n",
       "      <td>16</td>\n",
       "      <td>0.0</td>\n",
       "      <td>NaN</td>\n",
       "    </tr>\n",
       "    <tr>\n",
       "      <th>4</th>\n",
       "      <td>4</td>\n",
       "      <td>Berlin</td>\n",
       "      <td>2789</td>\n",
       "      <td>9</td>\n",
       "      <td>0</td>\n",
       "      <td>2</td>\n",
       "      <td>0</td>\n",
       "      <td>7</td>\n",
       "      <td>122</td>\n",
       "      <td>4</td>\n",
       "      <td>117</td>\n",
       "      <td>1</td>\n",
       "      <td>0.0</td>\n",
       "      <td>NaN</td>\n",
       "    </tr>\n",
       "    <tr>\n",
       "      <th>...</th>\n",
       "      <td>...</td>\n",
       "      <td>...</td>\n",
       "      <td>...</td>\n",
       "      <td>...</td>\n",
       "      <td>...</td>\n",
       "      <td>...</td>\n",
       "      <td>...</td>\n",
       "      <td>...</td>\n",
       "      <td>...</td>\n",
       "      <td>...</td>\n",
       "      <td>...</td>\n",
       "      <td>...</td>\n",
       "      <td>...</td>\n",
       "      <td>...</td>\n",
       "    </tr>\n",
       "    <tr>\n",
       "      <th>7653</th>\n",
       "      <td>526</td>\n",
       "      <td>Worth</td>\n",
       "      <td>10534</td>\n",
       "      <td>31</td>\n",
       "      <td>0</td>\n",
       "      <td>14</td>\n",
       "      <td>6</td>\n",
       "      <td>11</td>\n",
       "      <td>70</td>\n",
       "      <td>30</td>\n",
       "      <td>32</td>\n",
       "      <td>8</td>\n",
       "      <td>1.0</td>\n",
       "      <td>NaN</td>\n",
       "    </tr>\n",
       "    <tr>\n",
       "      <th>7654</th>\n",
       "      <td>527</td>\n",
       "      <td>Yates City</td>\n",
       "      <td>653</td>\n",
       "      <td>0</td>\n",
       "      <td>0</td>\n",
       "      <td>0</td>\n",
       "      <td>0</td>\n",
       "      <td>0</td>\n",
       "      <td>4</td>\n",
       "      <td>0</td>\n",
       "      <td>4</td>\n",
       "      <td>0</td>\n",
       "      <td>0.0</td>\n",
       "      <td>NaN</td>\n",
       "    </tr>\n",
       "    <tr>\n",
       "      <th>7655</th>\n",
       "      <td>528</td>\n",
       "      <td>Yorkville</td>\n",
       "      <td>20541</td>\n",
       "      <td>28</td>\n",
       "      <td>0</td>\n",
       "      <td>16</td>\n",
       "      <td>5</td>\n",
       "      <td>7</td>\n",
       "      <td>142</td>\n",
       "      <td>13</td>\n",
       "      <td>124</td>\n",
       "      <td>5</td>\n",
       "      <td>0.0</td>\n",
       "      <td>NaN</td>\n",
       "    </tr>\n",
       "    <tr>\n",
       "      <th>7656</th>\n",
       "      <td>529</td>\n",
       "      <td>Zion</td>\n",
       "      <td>23617</td>\n",
       "      <td>130</td>\n",
       "      <td>2</td>\n",
       "      <td>32</td>\n",
       "      <td>25</td>\n",
       "      <td>71</td>\n",
       "      <td>640</td>\n",
       "      <td>96</td>\n",
       "      <td>461</td>\n",
       "      <td>83</td>\n",
       "      <td>8.0</td>\n",
       "      <td>NaN</td>\n",
       "    </tr>\n",
       "    <tr>\n",
       "      <th>7657</th>\n",
       "      <td>0</td>\n",
       "      <td>Honolulu</td>\n",
       "      <td>974902</td>\n",
       "      <td>2638</td>\n",
       "      <td>27</td>\n",
       "      <td>340</td>\n",
       "      <td>954</td>\n",
       "      <td>1317</td>\n",
       "      <td>29263</td>\n",
       "      <td>3864</td>\n",
       "      <td>21562</td>\n",
       "      <td>3837</td>\n",
       "      <td>272.0</td>\n",
       "      <td>NaN</td>\n",
       "    </tr>\n",
       "  </tbody>\n",
       "</table>\n",
       "<p>7658 rows × 14 columns</p>\n",
       "</div>"
      ],
      "text/plain": [
       "      Unnamed: 0           city  population  violent_crime  murder  rape  \\\n",
       "0              0          Barre        8551             64       0    18   \n",
       "1              1     Barre Town        7679              6       0     1   \n",
       "2              2  Bellows Falls        2988              7       0     0   \n",
       "3              3     Bennington       14912             63       0     3   \n",
       "4              4         Berlin        2789              9       0     2   \n",
       "...          ...            ...         ...            ...     ...   ...   \n",
       "7653         526          Worth       10534             31       0    14   \n",
       "7654         527     Yates City         653              0       0     0   \n",
       "7655         528      Yorkville       20541             28       0    16   \n",
       "7656         529           Zion       23617            130       2    32   \n",
       "7657           0       Honolulu      974902           2638      27   340   \n",
       "\n",
       "      robbery  assault  property_crime  burglary  larceny   gta  arson  Arson  \n",
       "0           3       43             203        20      183     0    3.0    NaN  \n",
       "1           0        5              67         3       62     2    1.0    NaN  \n",
       "2           2        5              54        11       42     1    0.0    NaN  \n",
       "3           9       51             514        67      431    16    0.0    NaN  \n",
       "4           0        7             122         4      117     1    0.0    NaN  \n",
       "...       ...      ...             ...       ...      ...   ...    ...    ...  \n",
       "7653        6       11              70        30       32     8    1.0    NaN  \n",
       "7654        0        0               4         0        4     0    0.0    NaN  \n",
       "7655        5        7             142        13      124     5    0.0    NaN  \n",
       "7656       25       71             640        96      461    83    8.0    NaN  \n",
       "7657      954     1317           29263      3864    21562  3837  272.0    NaN  \n",
       "\n",
       "[7658 rows x 14 columns]"
      ]
     },
     "execution_count": 11,
     "metadata": {},
     "output_type": "execute_result"
    }
   ],
   "source": [
    "df['city'] = df['city'].str.replace('\\d+', '')\n",
    "df"
   ]
  },
  {
   "cell_type": "code",
   "execution_count": 12,
   "id": "e9547635",
   "metadata": {
    "scrolled": true
   },
   "outputs": [
    {
     "data": {
      "text/plain": [
       "dtype('O')"
      ]
     },
     "execution_count": 12,
     "metadata": {},
     "output_type": "execute_result"
    }
   ],
   "source": [
    "city_list.dtype"
   ]
  },
  {
   "cell_type": "code",
   "execution_count": 13,
   "id": "b1d8c9e9",
   "metadata": {},
   "outputs": [],
   "source": [
    "def get_coordinates(city_list):\n",
    "    \"\"\"Takes a list of cities and returns a dictionary of the cities and their corresponding coordinates.\"\"\"\n",
    "    geolocator = Nominatim(user_agent=\"location script\")\n",
    "    dicto = {}\n",
    "    \n",
    "    for city in city_list:\n",
    "        try:\n",
    "            location = geolocator.geocode(city)\n",
    "        except:\n",
    "            raise Exception(\"There was a problem with the getCoordinates function\")\n",
    "        coordinate_values = (location.longitude, location.latitude)  #in geopandas, the x value corresponds to the longitude while the y value, the latitude(Just in case you were wondering why it was *location.longitude, location.latitude* and not the other way round )\n",
    "        dicto[city] = coordinate_values #adding the coordinate pair to the dictionary at the end of every loop\n",
    "    return dicto #finally retruns the dict "
   ]
  },
  {
   "cell_type": "code",
   "execution_count": 14,
   "id": "cc4e5fe6",
   "metadata": {
    "scrolled": true
   },
   "outputs": [
    {
     "ename": "AttributeError",
     "evalue": "'NoneType' object has no attribute 'longitude'",
     "output_type": "error",
     "traceback": [
      "\u001b[0;31m---------------------------------------------------------------------------\u001b[0m",
      "\u001b[0;31mAttributeError\u001b[0m                            Traceback (most recent call last)",
      "\u001b[0;32m<ipython-input-14-dedf916e4307>\u001b[0m in \u001b[0;36m<module>\u001b[0;34m\u001b[0m\n\u001b[1;32m      1\u001b[0m \u001b[0;31m#getting coordinates for each city in the list\u001b[0m\u001b[0;34m\u001b[0m\u001b[0;34m\u001b[0m\u001b[0;34m\u001b[0m\u001b[0m\n\u001b[0;32m----> 2\u001b[0;31m \u001b[0mcity_coords_dict\u001b[0m \u001b[0;34m=\u001b[0m \u001b[0mget_coordinates\u001b[0m\u001b[0;34m(\u001b[0m\u001b[0mcity_list\u001b[0m\u001b[0;34m)\u001b[0m\u001b[0;34m\u001b[0m\u001b[0;34m\u001b[0m\u001b[0m\n\u001b[0m\u001b[1;32m      3\u001b[0m \u001b[0mcity_coords_dict\u001b[0m\u001b[0;34m\u001b[0m\u001b[0;34m\u001b[0m\u001b[0m\n",
      "\u001b[0;32m<ipython-input-13-30811befcdd9>\u001b[0m in \u001b[0;36mget_coordinates\u001b[0;34m(city_list)\u001b[0m\n\u001b[1;32m      9\u001b[0m         \u001b[0;32mexcept\u001b[0m\u001b[0;34m:\u001b[0m\u001b[0;34m\u001b[0m\u001b[0;34m\u001b[0m\u001b[0m\n\u001b[1;32m     10\u001b[0m             \u001b[0;32mraise\u001b[0m \u001b[0mException\u001b[0m\u001b[0;34m(\u001b[0m\u001b[0;34m\"There was a problem with the getCoordinates function\"\u001b[0m\u001b[0;34m)\u001b[0m\u001b[0;34m\u001b[0m\u001b[0;34m\u001b[0m\u001b[0m\n\u001b[0;32m---> 11\u001b[0;31m         \u001b[0mcoordinate_values\u001b[0m \u001b[0;34m=\u001b[0m \u001b[0;34m(\u001b[0m\u001b[0mlocation\u001b[0m\u001b[0;34m.\u001b[0m\u001b[0mlongitude\u001b[0m\u001b[0;34m,\u001b[0m \u001b[0mlocation\u001b[0m\u001b[0;34m.\u001b[0m\u001b[0mlatitude\u001b[0m\u001b[0;34m)\u001b[0m  \u001b[0;31m#in geopandas, the x value corresponds to the longitude while the y value, the latitude(Just in case you were wondering why it was *location.longitude, location.latitude* and not the other way round )\u001b[0m\u001b[0;34m\u001b[0m\u001b[0;34m\u001b[0m\u001b[0m\n\u001b[0m\u001b[1;32m     12\u001b[0m         \u001b[0mdicto\u001b[0m\u001b[0;34m[\u001b[0m\u001b[0mcity\u001b[0m\u001b[0;34m]\u001b[0m \u001b[0;34m=\u001b[0m \u001b[0mcoordinate_values\u001b[0m \u001b[0;31m#adding the coordinate pair to the dictionary at the end of every loop\u001b[0m\u001b[0;34m\u001b[0m\u001b[0;34m\u001b[0m\u001b[0m\n\u001b[1;32m     13\u001b[0m     \u001b[0;32mreturn\u001b[0m \u001b[0mdicto\u001b[0m \u001b[0;31m#finally retruns the dict\u001b[0m\u001b[0;34m\u001b[0m\u001b[0;34m\u001b[0m\u001b[0m\n",
      "\u001b[0;31mAttributeError\u001b[0m: 'NoneType' object has no attribute 'longitude'"
     ]
    }
   ],
   "source": [
    "#getting coordinates for each city in the list\n",
    "city_coords_dict = get_coordinates(city_list)\n",
    "city_coords_dict"
   ]
  },
  {
   "cell_type": "code",
   "execution_count": null,
   "id": "67ee6d4e",
   "metadata": {},
   "outputs": [],
   "source": [
    "len(city_coords_dict)"
   ]
  },
  {
   "cell_type": "code",
   "execution_count": null,
   "id": "4de8120c",
   "metadata": {
    "scrolled": true
   },
   "outputs": [],
   "source": [
    "df.head()"
   ]
  },
  {
   "cell_type": "code",
   "execution_count": null,
   "id": "973c7de3",
   "metadata": {},
   "outputs": [],
   "source": [
    "# crime rate per 100,000 is made as follows:\n",
    "#(crime volume / population) * 100,000\n"
   ]
  },
  {
   "cell_type": "markdown",
   "id": "fd08b99f",
   "metadata": {},
   "source": [
    "#### 1. Add a total crime column"
   ]
  },
  {
   "cell_type": "code",
   "execution_count": null,
   "id": "9069482e",
   "metadata": {},
   "outputs": [],
   "source": [
    "df['total_crime'] = df.sum(axis=1)"
   ]
  },
  {
   "cell_type": "code",
   "execution_count": null,
   "id": "ef83195c",
   "metadata": {
    "scrolled": true
   },
   "outputs": [],
   "source": [
    "df.head()"
   ]
  },
  {
   "cell_type": "markdown",
   "id": "7ea3d0fd",
   "metadata": {},
   "source": [
    "#### 2. Making a new data frame that has only the neccesary columns for further operations"
   ]
  },
  {
   "cell_type": "code",
   "execution_count": null,
   "id": "bbd13ef2",
   "metadata": {
    "scrolled": true
   },
   "outputs": [],
   "source": [
    "new_df = df.filter(['city','total_crime','population'], axis=1)\n",
    "new_df"
   ]
  },
  {
   "cell_type": "markdown",
   "id": "1ae49c36",
   "metadata": {},
   "source": [
    "### 3.  Add a column of the crime rate severity via (total crime / population) "
   ]
  },
  {
   "cell_type": "code",
   "execution_count": null,
   "id": "d7572e53",
   "metadata": {},
   "outputs": [],
   "source": [
    "new_df['crime_index'] = (new_df['total_crime'] / new_df['population'])"
   ]
  },
  {
   "cell_type": "code",
   "execution_count": null,
   "id": "ae04a092",
   "metadata": {
    "scrolled": true
   },
   "outputs": [],
   "source": [
    "new_df.round(5)"
   ]
  },
  {
   "cell_type": "markdown",
   "id": "c2a2df69",
   "metadata": {},
   "source": []
  },
  {
   "cell_type": "markdown",
   "id": "a6282842",
   "metadata": {},
   "source": [
    "#### Next step is to create a final dataframe with following columns:\n",
    "#### LATITUDE, LONGTITUDE, CRIME_INDEX"
   ]
  },
  {
   "cell_type": "code",
   "execution_count": null,
   "id": "cb175c56",
   "metadata": {
    "scrolled": true
   },
   "outputs": [],
   "source": [
    "#lets make the coordinates dictionary into dataframe and orient it for\n",
    "#latitudes and longitudes\n",
    "coords_df = pd.DataFrame.from_dict(city_coords_dict, orient='index')\n",
    "coords_df"
   ]
  },
  {
   "cell_type": "code",
   "execution_count": null,
   "id": "01e4ee7f",
   "metadata": {},
   "outputs": [],
   "source": [
    "coords_df.rename(columns={0: 'latitude', 1: 'longitude'}, inplace=True)"
   ]
  },
  {
   "cell_type": "code",
   "execution_count": null,
   "id": "74cacf36",
   "metadata": {
    "scrolled": true
   },
   "outputs": [],
   "source": [
    "coords_df"
   ]
  },
  {
   "cell_type": "markdown",
   "id": "46483b6e",
   "metadata": {},
   "source": [
    "### join original dataframe row of 'crime_index' to new df of 'coordinates'"
   ]
  },
  {
   "cell_type": "code",
   "execution_count": null,
   "id": "83639c5a",
   "metadata": {
    "scrolled": true
   },
   "outputs": [],
   "source": [
    "coords_df['crime_index'] = new_df['crime_index'].values"
   ]
  },
  {
   "cell_type": "code",
   "execution_count": null,
   "id": "27c8ee9c",
   "metadata": {
    "scrolled": true
   },
   "outputs": [],
   "source": [
    "coords_df"
   ]
  },
  {
   "cell_type": "code",
   "execution_count": null,
   "id": "77509013",
   "metadata": {},
   "outputs": [],
   "source": []
  }
 ],
 "metadata": {
  "kernelspec": {
   "display_name": "Python 3",
   "language": "python",
   "name": "python3"
  },
  "language_info": {
   "codemirror_mode": {
    "name": "ipython",
    "version": 3
   },
   "file_extension": ".py",
   "mimetype": "text/x-python",
   "name": "python",
   "nbconvert_exporter": "python",
   "pygments_lexer": "ipython3",
   "version": "3.9.1"
  }
 },
 "nbformat": 4,
 "nbformat_minor": 5
}
