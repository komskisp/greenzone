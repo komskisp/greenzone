{
 "cells": [
  {
   "cell_type": "code",
   "execution_count": 1,
   "id": "0f044e36",
   "metadata": {},
   "outputs": [],
   "source": [
    "from geopy.geocoders import Nominatim\n",
    "from shapely.geometry import Point, LineString\n",
    "import geopandas as gpd\n",
    "import folium \n",
    "import matplotlib.pyplot as plt\n",
    "import random\n",
    "import pandas as pd"
   ]
  },
  {
   "cell_type": "code",
   "execution_count": 66,
   "id": "2044ea00",
   "metadata": {},
   "outputs": [],
   "source": [
    "df = pd.read_csv('/Users/pauliuskomskis/Desktop/github/greenzone/data/2019/final_df.csv')"
   ]
  },
  {
   "cell_type": "code",
   "execution_count": 67,
   "id": "311a9fd4",
   "metadata": {},
   "outputs": [
    {
     "data": {
      "text/plain": [
       "(5, 14)"
      ]
     },
     "execution_count": 67,
     "metadata": {},
     "output_type": "execute_result"
    }
   ],
   "source": [
    "df.head().shape"
   ]
  },
  {
   "cell_type": "code",
   "execution_count": 68,
   "id": "82836cd7",
   "metadata": {},
   "outputs": [
    {
     "data": {
      "text/html": [
       "<div>\n",
       "<style scoped>\n",
       "    .dataframe tbody tr th:only-of-type {\n",
       "        vertical-align: middle;\n",
       "    }\n",
       "\n",
       "    .dataframe tbody tr th {\n",
       "        vertical-align: top;\n",
       "    }\n",
       "\n",
       "    .dataframe thead th {\n",
       "        text-align: right;\n",
       "    }\n",
       "</style>\n",
       "<table border=\"1\" class=\"dataframe\">\n",
       "  <thead>\n",
       "    <tr style=\"text-align: right;\">\n",
       "      <th></th>\n",
       "      <th>Unnamed: 0</th>\n",
       "      <th>city</th>\n",
       "      <th>population</th>\n",
       "      <th>violent_crime</th>\n",
       "      <th>murder</th>\n",
       "      <th>rape</th>\n",
       "      <th>robbery</th>\n",
       "      <th>assault</th>\n",
       "      <th>property_crime</th>\n",
       "      <th>burglary</th>\n",
       "      <th>larceny</th>\n",
       "      <th>gta</th>\n",
       "      <th>arson</th>\n",
       "      <th>Arson</th>\n",
       "    </tr>\n",
       "  </thead>\n",
       "  <tbody>\n",
       "    <tr>\n",
       "      <th>0</th>\n",
       "      <td>0</td>\n",
       "      <td>Barre</td>\n",
       "      <td>8551</td>\n",
       "      <td>64</td>\n",
       "      <td>0</td>\n",
       "      <td>18</td>\n",
       "      <td>3</td>\n",
       "      <td>43</td>\n",
       "      <td>203</td>\n",
       "      <td>20</td>\n",
       "      <td>183</td>\n",
       "      <td>0</td>\n",
       "      <td>3.0</td>\n",
       "      <td>NaN</td>\n",
       "    </tr>\n",
       "    <tr>\n",
       "      <th>1</th>\n",
       "      <td>1</td>\n",
       "      <td>Barre Town</td>\n",
       "      <td>7679</td>\n",
       "      <td>6</td>\n",
       "      <td>0</td>\n",
       "      <td>1</td>\n",
       "      <td>0</td>\n",
       "      <td>5</td>\n",
       "      <td>67</td>\n",
       "      <td>3</td>\n",
       "      <td>62</td>\n",
       "      <td>2</td>\n",
       "      <td>1.0</td>\n",
       "      <td>NaN</td>\n",
       "    </tr>\n",
       "    <tr>\n",
       "      <th>2</th>\n",
       "      <td>2</td>\n",
       "      <td>Bellows Falls</td>\n",
       "      <td>2988</td>\n",
       "      <td>7</td>\n",
       "      <td>0</td>\n",
       "      <td>0</td>\n",
       "      <td>2</td>\n",
       "      <td>5</td>\n",
       "      <td>54</td>\n",
       "      <td>11</td>\n",
       "      <td>42</td>\n",
       "      <td>1</td>\n",
       "      <td>0.0</td>\n",
       "      <td>NaN</td>\n",
       "    </tr>\n",
       "    <tr>\n",
       "      <th>3</th>\n",
       "      <td>3</td>\n",
       "      <td>Bennington</td>\n",
       "      <td>14912</td>\n",
       "      <td>63</td>\n",
       "      <td>0</td>\n",
       "      <td>3</td>\n",
       "      <td>9</td>\n",
       "      <td>51</td>\n",
       "      <td>514</td>\n",
       "      <td>67</td>\n",
       "      <td>431</td>\n",
       "      <td>16</td>\n",
       "      <td>0.0</td>\n",
       "      <td>NaN</td>\n",
       "    </tr>\n",
       "    <tr>\n",
       "      <th>4</th>\n",
       "      <td>4</td>\n",
       "      <td>Berlin</td>\n",
       "      <td>2789</td>\n",
       "      <td>9</td>\n",
       "      <td>0</td>\n",
       "      <td>2</td>\n",
       "      <td>0</td>\n",
       "      <td>7</td>\n",
       "      <td>122</td>\n",
       "      <td>4</td>\n",
       "      <td>117</td>\n",
       "      <td>1</td>\n",
       "      <td>0.0</td>\n",
       "      <td>NaN</td>\n",
       "    </tr>\n",
       "  </tbody>\n",
       "</table>\n",
       "</div>"
      ],
      "text/plain": [
       "   Unnamed: 0           city  population  violent_crime  murder  rape  \\\n",
       "0           0          Barre        8551             64       0    18   \n",
       "1           1     Barre Town        7679              6       0     1   \n",
       "2           2  Bellows Falls        2988              7       0     0   \n",
       "3           3     Bennington       14912             63       0     3   \n",
       "4           4         Berlin        2789              9       0     2   \n",
       "\n",
       "   robbery  assault  property_crime  burglary  larceny  gta  arson  Arson  \n",
       "0        3       43             203        20      183    0    3.0    NaN  \n",
       "1        0        5              67         3       62    2    1.0    NaN  \n",
       "2        2        5              54        11       42    1    0.0    NaN  \n",
       "3        9       51             514        67      431   16    0.0    NaN  \n",
       "4        0        7             122         4      117    1    0.0    NaN  "
      ]
     },
     "execution_count": 68,
     "metadata": {},
     "output_type": "execute_result"
    }
   ],
   "source": [
    "df.head()"
   ]
  },
  {
   "cell_type": "code",
   "execution_count": 108,
   "id": "44388971",
   "metadata": {},
   "outputs": [
    {
     "data": {
      "text/plain": [
       "(7658,)"
      ]
     },
     "execution_count": 108,
     "metadata": {},
     "output_type": "execute_result"
    }
   ],
   "source": [
    "city_list = df['city']\n",
    "city_list.shape"
   ]
  },
  {
   "cell_type": "code",
   "execution_count": 111,
   "id": "f68ae01e",
   "metadata": {},
   "outputs": [
    {
     "data": {
      "text/plain": [
       "Springfield              14\n",
       "Clinton                  14\n",
       "Salem                    11\n",
       "Newport                  11\n",
       "Troy                     10\n",
       "                         ..\n",
       "Lumberton Township        1\n",
       "Mountlake Terrace         1\n",
       "Sleepy Hollow Village     1\n",
       "Cottage City              1\n",
       "Mazon                     1\n",
       "Name: city, Length: 5992, dtype: int64"
      ]
     },
     "execution_count": 111,
     "metadata": {},
     "output_type": "execute_result"
    }
   ],
   "source": [
    "city_list.value_counts()"
   ]
  },
  {
   "cell_type": "code",
   "execution_count": 119,
   "id": "e9547635",
   "metadata": {
    "scrolled": true
   },
   "outputs": [
    {
     "data": {
      "text/plain": [
       "dtype('O')"
      ]
     },
     "execution_count": 119,
     "metadata": {},
     "output_type": "execute_result"
    }
   ],
   "source": [
    "city_list.dtype"
   ]
  },
  {
   "cell_type": "code",
   "execution_count": 121,
   "id": "b1d8c9e9",
   "metadata": {},
   "outputs": [],
   "source": [
    "def get_coordinates(city_list):\n",
    "    \"\"\"Takes a list of cities and returns a dictionary of the cities and their corresponding coordinates.\"\"\"\n",
    "    geolocator = Nominatim(user_agent='location script')\n",
    "    dicto = {}\n",
    "\n",
    "    for city in city_list:        \n",
    "        try:\n",
    "\n",
    "            location = geolocator.geocode(city)\n",
    "        except Exception:\n",
    "#             raise Exception(\"There was a problem with the getCoordinates function\")\n",
    "            pass\n",
    "        coordinate_values = (location.longitude, location.latitude)  #in geopandas, the x value corresponds to the longitude while the y value, the latitude(Just in case you were wondering why it was *location.longitude, location.latitude* and not the other way round )\n",
    "        dicto[city] = coordinate_values #adding the coordinate pair to the dictionary at the end of every loop\n",
    "    return dicto #finally retruns the dict "
   ]
  },
  {
   "cell_type": "code",
   "execution_count": 122,
   "id": "cc4e5fe6",
   "metadata": {
    "scrolled": true
   },
   "outputs": [
    {
     "ename": "AttributeError",
     "evalue": "'NoneType' object has no attribute 'longitude'",
     "output_type": "error",
     "traceback": [
      "\u001b[0;31m---------------------------------------------------------------------------\u001b[0m",
      "\u001b[0;31mAttributeError\u001b[0m                            Traceback (most recent call last)",
      "\u001b[0;32m<ipython-input-122-dedf916e4307>\u001b[0m in \u001b[0;36m<module>\u001b[0;34m\u001b[0m\n\u001b[1;32m      1\u001b[0m \u001b[0;31m#getting coordinates for each city in the list\u001b[0m\u001b[0;34m\u001b[0m\u001b[0;34m\u001b[0m\u001b[0;34m\u001b[0m\u001b[0m\n\u001b[0;32m----> 2\u001b[0;31m \u001b[0mcity_coords_dict\u001b[0m \u001b[0;34m=\u001b[0m \u001b[0mget_coordinates\u001b[0m\u001b[0;34m(\u001b[0m\u001b[0mcity_list\u001b[0m\u001b[0;34m)\u001b[0m\u001b[0;34m\u001b[0m\u001b[0;34m\u001b[0m\u001b[0m\n\u001b[0m\u001b[1;32m      3\u001b[0m \u001b[0mcity_coords_dict\u001b[0m\u001b[0;34m\u001b[0m\u001b[0;34m\u001b[0m\u001b[0m\n",
      "\u001b[0;32m<ipython-input-121-941a6c60e926>\u001b[0m in \u001b[0;36mget_coordinates\u001b[0;34m(city_list)\u001b[0m\n\u001b[1;32m     11\u001b[0m \u001b[0;31m#             raise Exception(\"There was a problem with the getCoordinates function\")\u001b[0m\u001b[0;34m\u001b[0m\u001b[0;34m\u001b[0m\u001b[0;34m\u001b[0m\u001b[0m\n\u001b[1;32m     12\u001b[0m             \u001b[0;32mpass\u001b[0m\u001b[0;34m\u001b[0m\u001b[0;34m\u001b[0m\u001b[0m\n\u001b[0;32m---> 13\u001b[0;31m         \u001b[0mcoordinate_values\u001b[0m \u001b[0;34m=\u001b[0m \u001b[0;34m(\u001b[0m\u001b[0mlocation\u001b[0m\u001b[0;34m.\u001b[0m\u001b[0mlongitude\u001b[0m\u001b[0;34m,\u001b[0m \u001b[0mlocation\u001b[0m\u001b[0;34m.\u001b[0m\u001b[0mlatitude\u001b[0m\u001b[0;34m)\u001b[0m  \u001b[0;31m#in geopandas, the x value corresponds to the longitude while the y value, the latitude(Just in case you were wondering why it was *location.longitude, location.latitude* and not the other way round )\u001b[0m\u001b[0;34m\u001b[0m\u001b[0;34m\u001b[0m\u001b[0m\n\u001b[0m\u001b[1;32m     14\u001b[0m         \u001b[0mdicto\u001b[0m\u001b[0;34m[\u001b[0m\u001b[0mcity\u001b[0m\u001b[0;34m]\u001b[0m \u001b[0;34m=\u001b[0m \u001b[0mcoordinate_values\u001b[0m \u001b[0;31m#adding the coordinate pair to the dictionary at the end of every loop\u001b[0m\u001b[0;34m\u001b[0m\u001b[0;34m\u001b[0m\u001b[0m\n\u001b[1;32m     15\u001b[0m     \u001b[0;32mreturn\u001b[0m \u001b[0mdicto\u001b[0m \u001b[0;31m#finally retruns the dict\u001b[0m\u001b[0;34m\u001b[0m\u001b[0;34m\u001b[0m\u001b[0m\n",
      "\u001b[0;31mAttributeError\u001b[0m: 'NoneType' object has no attribute 'longitude'"
     ]
    }
   ],
   "source": [
    "#getting coordinates for each city in the list\n",
    "city_coords_dict = get_coordinates(city_list)\n",
    "city_coords_dict"
   ]
  },
  {
   "cell_type": "code",
   "execution_count": null,
   "id": "67ee6d4e",
   "metadata": {},
   "outputs": [],
   "source": [
    "len(city_coords_dict)"
   ]
  },
  {
   "cell_type": "code",
   "execution_count": null,
   "id": "4de8120c",
   "metadata": {
    "scrolled": true
   },
   "outputs": [],
   "source": [
    "df.head()"
   ]
  },
  {
   "cell_type": "code",
   "execution_count": null,
   "id": "973c7de3",
   "metadata": {},
   "outputs": [],
   "source": [
    "# crime rate per 100,000 is made as follows:\n",
    "#(crime volume / population) * 100,000\n"
   ]
  },
  {
   "cell_type": "markdown",
   "id": "fd08b99f",
   "metadata": {},
   "source": [
    "#### 1. Add a total crime column"
   ]
  },
  {
   "cell_type": "code",
   "execution_count": null,
   "id": "9069482e",
   "metadata": {},
   "outputs": [],
   "source": [
    "df['total_crime'] = df.sum(axis=1)"
   ]
  },
  {
   "cell_type": "code",
   "execution_count": null,
   "id": "ef83195c",
   "metadata": {
    "scrolled": true
   },
   "outputs": [],
   "source": [
    "df.head()"
   ]
  },
  {
   "cell_type": "markdown",
   "id": "7ea3d0fd",
   "metadata": {},
   "source": [
    "#### 2. Making a new data frame that has only the neccesary columns for further operations"
   ]
  },
  {
   "cell_type": "code",
   "execution_count": null,
   "id": "bbd13ef2",
   "metadata": {
    "scrolled": true
   },
   "outputs": [],
   "source": [
    "new_df = df.filter(['city','total_crime','population'], axis=1)\n",
    "new_df"
   ]
  },
  {
   "cell_type": "markdown",
   "id": "1ae49c36",
   "metadata": {},
   "source": [
    "### 3.  Add a column of the crime rate severity via (total crime / population) "
   ]
  },
  {
   "cell_type": "code",
   "execution_count": null,
   "id": "d7572e53",
   "metadata": {},
   "outputs": [],
   "source": [
    "new_df['crime_index'] = (new_df['total_crime'] / new_df['population'])"
   ]
  },
  {
   "cell_type": "code",
   "execution_count": null,
   "id": "ae04a092",
   "metadata": {
    "scrolled": true
   },
   "outputs": [],
   "source": [
    "new_df.round(5)"
   ]
  },
  {
   "cell_type": "markdown",
   "id": "c2a2df69",
   "metadata": {},
   "source": []
  },
  {
   "cell_type": "markdown",
   "id": "a6282842",
   "metadata": {},
   "source": [
    "#### Next step is to create a final dataframe with following columns:\n",
    "#### LATITUDE, LONGTITUDE, CRIME_INDEX"
   ]
  },
  {
   "cell_type": "code",
   "execution_count": null,
   "id": "cb175c56",
   "metadata": {
    "scrolled": true
   },
   "outputs": [],
   "source": [
    "#lets make the coordinates dictionary into dataframe and orient it for\n",
    "#latitudes and longitudes\n",
    "coords_df = pd.DataFrame.from_dict(city_coords_dict, orient='index')\n",
    "coords_df"
   ]
  },
  {
   "cell_type": "code",
   "execution_count": null,
   "id": "01e4ee7f",
   "metadata": {},
   "outputs": [],
   "source": [
    "coords_df.rename(columns={0: 'latitude', 1: 'longitude'}, inplace=True)"
   ]
  },
  {
   "cell_type": "code",
   "execution_count": null,
   "id": "74cacf36",
   "metadata": {
    "scrolled": true
   },
   "outputs": [],
   "source": [
    "coords_df"
   ]
  },
  {
   "cell_type": "markdown",
   "id": "46483b6e",
   "metadata": {},
   "source": [
    "### join original dataframe row of 'crime_index' to new df of 'coordinates'"
   ]
  },
  {
   "cell_type": "code",
   "execution_count": null,
   "id": "83639c5a",
   "metadata": {
    "scrolled": true
   },
   "outputs": [],
   "source": [
    "coords_df['crime_index'] = new_df['crime_index'].values"
   ]
  },
  {
   "cell_type": "code",
   "execution_count": null,
   "id": "27c8ee9c",
   "metadata": {
    "scrolled": true
   },
   "outputs": [],
   "source": [
    "coords_df"
   ]
  },
  {
   "cell_type": "code",
   "execution_count": null,
   "id": "77509013",
   "metadata": {},
   "outputs": [],
   "source": []
  }
 ],
 "metadata": {
  "kernelspec": {
   "display_name": "Python 3",
   "language": "python",
   "name": "python3"
  },
  "language_info": {
   "codemirror_mode": {
    "name": "ipython",
    "version": 3
   },
   "file_extension": ".py",
   "mimetype": "text/x-python",
   "name": "python",
   "nbconvert_exporter": "python",
   "pygments_lexer": "ipython3",
   "version": "3.9.1"
  }
 },
 "nbformat": 4,
 "nbformat_minor": 5
}
